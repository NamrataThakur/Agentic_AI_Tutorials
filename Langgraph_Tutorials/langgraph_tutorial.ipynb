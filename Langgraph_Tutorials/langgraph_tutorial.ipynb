{
 "cells": [
  {
   "cell_type": "markdown",
   "id": "f35f0e95",
   "metadata": {},
   "source": [
    "Tools Introduction:"
   ]
  },
  {
   "cell_type": "code",
   "execution_count": 27,
   "id": "bdf4d49c",
   "metadata": {},
   "outputs": [],
   "source": [
    "from langchain_community.tools import YouTubeSearchTool\n",
    "from langchain_community.tools import WikipediaQueryRun\n",
    "from langchain_community.tools import TavilySearchResults\n",
    "from langchain_community.utilities import WikipediaAPIWrapper\n",
    "import os\n",
    "from dotenv import load_dotenv\n",
    "load_dotenv()\n",
    "\n",
    "from langchain.agents import tool\n",
    "import tiktoken"
   ]
  },
  {
   "cell_type": "markdown",
   "id": "bc466bc5",
   "metadata": {},
   "source": [
    "Wikipedia Tool:"
   ]
  },
  {
   "cell_type": "code",
   "execution_count": 6,
   "id": "36301568",
   "metadata": {},
   "outputs": [
    {
     "name": "stdout",
     "output_type": "stream",
     "text": [
      "wikipedia  -->  {'query': {'description': 'query to look up on wikipedia', 'title': 'Query', 'type': 'string'}}\n",
      "Page: Ratan Tata\n",
      "Summary: Ratan Naval Tata (28 December 1937 – 9 October 2024) was an  Indian industrialist and philanthropist. He served as the chairman of Tata Group and Tata Sons from 1991 to 2012 and he held the position of interim chairman from October 2016 to February 2017. In 2000, he received the Padma Bhushan, the third highest civilian honour in India, followed by the Padma Vibhushan, the country's second highest civilian honour, in 2008.\n",
      "Ratan Tata was the son of Naval Tata, who was adopted by Ratanji Tata, son of Jamshedji Tata, the founder of the Tata Group. He graduated from Cornell University College of Architecture with a bachelor's degree in architecture. He had also attended the Harvard Business School (HBS) Advanced Management program in 1975. He joined the Tata Group in 1962, starting on the shop floor of Tata Steel. He later succeeded J. R. D. Tata as chairman of Tata Sons upon the latter's retirement in 1991. During his tenure, the Tata Group acquired Tetley, Jagu\n"
     ]
    }
   ],
   "source": [
    "wiki_wrapper = WikipediaAPIWrapper(top_k_results=5, doc_content_chars_max=1000)\n",
    "wiki_tool = WikipediaQueryRun(api_wrapper=wiki_wrapper)\n",
    "print(wiki_tool.name, ' --> ',wiki_tool.args)\n",
    "wiki_response = wiki_tool.run({'query':'Ratan Tata'})\n",
    "print(wiki_response)"
   ]
  },
  {
   "cell_type": "markdown",
   "id": "d5f9bfc6",
   "metadata": {},
   "source": [
    "Youtube Search Tool:"
   ]
  },
  {
   "cell_type": "code",
   "execution_count": null,
   "id": "0e084937",
   "metadata": {},
   "outputs": [
    {
     "name": "stdout",
     "output_type": "stream",
     "text": [
      "youtube_search -->  {'query': {'title': 'Query', 'type': 'string'}}\n",
      "['https://www.youtube.com/shorts/Zfd92TBs3os', 'https://www.youtube.com/shorts/_RXNfScuaxI']\n"
     ]
    }
   ],
   "source": [
    "youtube_tool = YouTubeSearchTool()\n",
    "print(youtube_tool.name , '--> ', youtube_tool.args)\n",
    "youtube_response = youtube_tool.run('Ratan Tata')\n",
    "print(youtube_response)"
   ]
  },
  {
   "cell_type": "markdown",
   "id": "fcc6acd2",
   "metadata": {},
   "source": [
    "Tavily Tool:"
   ]
  },
  {
   "cell_type": "code",
   "execution_count": 16,
   "id": "f0515ee8",
   "metadata": {},
   "outputs": [],
   "source": [
    "tavily_api_key = os.getenv('TAVILY_API_KEY')"
   ]
  },
  {
   "cell_type": "code",
   "execution_count": 24,
   "id": "d0cd8f99",
   "metadata": {},
   "outputs": [
    {
     "name": "stdout",
     "output_type": "stream",
     "text": [
      "tavily_search_results_json --> A search engine optimized for comprehensive, accurate, and trusted results. Useful for when you need to answer questions about current events. Input should be a search query. -->  {'query': {'description': 'search query to look up', 'title': 'Query', 'type': 'string'}}\n",
      "[{'title': 'Air India plane crashes in Ahmedabad with 242 people on board ...', 'url': 'https://www.cbsnews.com/news/air-india-plane-crash-ahmedabad-flight-ai171-to-london-gatwick/', 'content': 'An Air India passenger plane carrying 242 passengers and crew crashed in the western Indian city of Ahmedabad on Thursday, shortly after taking off for London\\'s Gatwick airport, the airline and officials said.\\n\\nAfter initially saying there were no known survivors from the crash of Air India flight AI171, officials confirmed [one man who had been on the plane survived](https://www.cbsnews.com/news/air-india-plane-crash-survivor-reports-uk-citizen-vishwash-kumar-ramesh/). [...] ![Image 4: India Plane Crash ](https://assets2.cbsnewsstatic.com/hub/i/r/2025/06/12/37810d3c-a512-45cd-9aa1-7eed810d3a8c/thumbnail/620x465/42bf1fa39422d0331bc91441ddaef32e/air-india-plane-crash-ap25163341095177.jpg?v=d2f497bd9339ad99d2e0559414346698#)\\n\\nFirefighters work at the scene of a plane crash in India\\'s northwestern city of Ahmedabad, in Gujarat state, June12, 2025. Air India confirmed that an Ahmedabad to London flight was involved in \"an incident.\" Ajit Solanki/AP [...] ![Image 3: Aftermath of the Air India crash during take-off, in Ahmedabad ](https://assets3.cbsnewsstatic.com/hub/i/r/2025/06/12/0364c333-a198-48be-80f0-993c37043693/thumbnail/620x413/b23aef2ef24439f2c3b5e6e2daf571c0/2025-06-12t181138z-857025946-rc241faw1avq-rtrmadp-3-india-crash.jpg?v=d2f497bd9339ad99d2e0559414346698#)\\n\\nA person walks past debris of the tail section of an Air India aircraft that crashed after takeoff in Ahmedabad, India, June 12, 2025. Adnan Abidi / REUTERS', 'score': 0.86413884}, {'title': 'Air India AI 171 passenger flight crashes in Ahmedabad | AP News', 'url': 'https://apnews.com/article/india-plane-crash-cad8dad5cd0e92795b03d357404af5f8', 'content': 'Security camera footage accessed and verified by the Associated Press showed Air India flight 171 bound for London taking off and crashing into a medical college in the northwestern city of Ahmedabad on Thursday, killing more than 180 people in one of India’s worst airline disasters in decades.\\n\\nAnother medic said Ramesh told him that immediately after the plane took off, it began descending and suddenly split in two, throwing him out before a loud explosion.\\n\\nRelated Stories [...] Read More\\n\\n3 of 12|\\nAn Air India passenger plane with 244 people onboard crashed Thursday in India’s northwestern city of Ahmedabad, the airline and local media reported.\\n\\nRead More\\n\\n4 of 12|\\nAn airplane crashed in India’s northwestern city of Ahmedabad in Gujarat state on Thursday, news agency the Press Trust of India reported. Air India said the crashed aircraft is Flight AI171, a passenger flight to London Gatwick airport.\\n\\nRead More [...] 1 of 12|\\nAn Air India passenger plane with over 240 people onboard has crashed Thursday in India’s northwestern city of Ahmedabad, according to the airline and local media.\\n\\nRead More\\n\\n2 of 12|\\nSecurity camera footage accessed and verified by the Associated Press showed Air India flight 171 bound for London taking off and crashing into a medical college in the northwestern city of Ahmedabad on Thursday, killing more than 180 people in one of India’s worst airline disasters in decades.', 'score': 0.8638634}, {'title': 'Data Recorder Is Found for Air India Plane That Crashed', 'url': 'https://www.nytimes.com/2025/06/14/world/asia/air-india-crash-investigators.html', 'content': '![Image 1: Workers in high-visibility vests stand among debris near a part of a plane.](https://static01.nyt.com/images/2025/06/14/multimedia/14int-india-leadall-01-kvcm/14int-india-leadall-01-kvcm-articleLarge.jpg?quality=75&auto=webp&disable=upscale)\\n\\nInvestigators at the crash site of Air India Flight 171 in Ahmedabad, India, on Friday.Credit...Atul Loke for The New York Times', 'score': 0.8449346}, {'title': 'Air India plane crash: Investigation underway, black boxes found', 'url': 'https://abcnews.go.com/International/air-india-plane-crash-investigation-underway-black-boxes/story?id=122809083', 'content': \"![Image 3](https://i.abcnewsfe.com/a/73a43223-6bb2-4bb7-821e-b018eb5384dc/air-india-11-gty-gmh-250613_1749819784315_hpEmbed_2x3.jpg)\\n\\nIndia's Prime Minister Narendra Modi visits the site after Air India flight 171 crashed in a residential area near the airport in Ahmedabad, June 13, 2025.\\n\\nIndian Press Information Bureau/AFP via Getty Images [...] The plane, a Boeing 787-8 Dreamliner, was en route to the United Kingdom and crashed into a building in India's Meghaninager area near Ahmedabad airport, leaving 246 dead and [at least one surviving passenger](https://abcnews.go.com/International/thought-die-sole-survivor-air-india-plane-crash/story?id=122806797), local officials and the airline said. Boeing's Dreamliner planes had not previously been involved in an incident where passenger fatalities were reported.\", 'score': 0.8446273}, {'title': 'What Could Have Caused the Fatal Air India Crash?', 'url': 'https://news.northeastern.edu/2025/06/12/plane-crash-air-india-cause/', 'content': '![Image 4: Rescue personnel search through the wreckage of the Air India crash site.](https://news.northeastern.edu/wp-content/uploads/2025/06/India_Plane_Crash_1400.jpg?w=1100)\\n\\nSearch and rescue teams respond to the scene of the Air India crash in Ahmedabad, India, Thursday, June 12, 2025. AP Photo/Ajit Solanki\\n\\nMore than 260 people were killed when an Air India flight crashed shortly after takeoff in the western Indian city of Ahmedabad.', 'score': 0.84246206}]\n"
     ]
    }
   ],
   "source": [
    "tavily_tool = TavilySearchResults(tavily_api_key=tavily_api_key)\n",
    "print(tavily_tool.name, '-->', tavily_tool.description, '--> ', tavily_tool.args)\n",
    "tavily_res = tavily_tool.invoke('Which flight crashed in India recenty?')\n",
    "print(tavily_res)"
   ]
  },
  {
   "cell_type": "code",
   "execution_count": 25,
   "id": "1c443044",
   "metadata": {},
   "outputs": [
    {
     "data": {
      "text/plain": [
       "'An Air India passenger plane carrying 242 passengers and crew crashed in the western Indian city of Ahmedabad on Thursday, shortly after taking off for London\\'s Gatwick airport, the airline and officials said.\\n\\nAfter initially saying there were no known survivors from the crash of Air India flight AI171, officials confirmed [one man who had been on the plane survived](https://www.cbsnews.com/news/air-india-plane-crash-survivor-reports-uk-citizen-vishwash-kumar-ramesh/). [...] ![Image 4: India Plane Crash ](https://assets2.cbsnewsstatic.com/hub/i/r/2025/06/12/37810d3c-a512-45cd-9aa1-7eed810d3a8c/thumbnail/620x465/42bf1fa39422d0331bc91441ddaef32e/air-india-plane-crash-ap25163341095177.jpg?v=d2f497bd9339ad99d2e0559414346698#)\\n\\nFirefighters work at the scene of a plane crash in India\\'s northwestern city of Ahmedabad, in Gujarat state, June12, 2025. Air India confirmed that an Ahmedabad to London flight was involved in \"an incident.\" Ajit Solanki/AP [...] ![Image 3: Aftermath of the Air India crash during take-off, in Ahmedabad ](https://assets3.cbsnewsstatic.com/hub/i/r/2025/06/12/0364c333-a198-48be-80f0-993c37043693/thumbnail/620x413/b23aef2ef24439f2c3b5e6e2daf571c0/2025-06-12t181138z-857025946-rc241faw1avq-rtrmadp-3-india-crash.jpg?v=d2f497bd9339ad99d2e0559414346698#)\\n\\nA person walks past debris of the tail section of an Air India aircraft that crashed after takeoff in Ahmedabad, India, June 12, 2025. Adnan Abidi / REUTERS'"
      ]
     },
     "execution_count": 25,
     "metadata": {},
     "output_type": "execute_result"
    }
   ],
   "source": [
    "tavily_res[0]['content']"
   ]
  },
  {
   "cell_type": "code",
   "execution_count": 26,
   "id": "fd16d59a",
   "metadata": {},
   "outputs": [
    {
     "data": {
      "text/plain": [
       "[{'title': \"Bengaluru stampede case: What we know so far on RCB's ...\",\n",
       "  'url': 'https://timesofindia.indiatimes.com/sports/cricket/ipl/top-stories/bengaluru-stampede-case-what-we-know-so-far-on-rcbs-celebrations-that-turned-catastrophic/articleshow/121670873.cms',\n",
       "  'content': '[Follow us](https://news.google.com/publications/CAAqBwgKMM6y_Qowwu70Ag)\\n\\nRoyal Challengers Bengaluru\\'s IPL victory celebrations turned tragic as a stampede at M Chinnaswamy Stadium resulted in 11 deaths and 75 injuries. FIRs have been filed against RCB, events organisers DNA, and Karnataka State Cricket Association for alleged negligence. The Karnataka High Court has sought a report from the government while arrests have been and officials suspended.\\n\\nRead More [...] [](https://timesofindia.indiatimes.com/city/bengaluru/celebrations-turn-tragic-bloodbath-at-rcbs-maiden-ipl-trophy-victory-day-to-remember-forever-see-pics/photostory/121646177.cms)[Celebrations turn tragic: Bloodbath at RCB’s maiden IPL trophy victory, day to remember forever | see pics Lakhs of fans had gathered around Chinnaswamy Stadium, celebrating RCB’s historic first-ever IPL title with joy and excitement.Times Of [...] India](https://timesofindia.indiatimes.com/city/bengaluru/celebrations-turn-tragic-bloodbath-at-rcbs-maiden-ipl-trophy-victory-day-to-remember-forever-see-pics/photostory/121646177.cms \"Celebrations turn tragic: Bloodbath at RCB’s maiden IPL trophy victory, day to remember forever | see pics\")',\n",
       "  'score': 0.8455478},\n",
       " {'title': 'Chinnaswamy Stadium Stampede: What triggered the deadly chaos ...',\n",
       "  'url': 'https://m.economictimes.com/news/bengaluru-news/chinnaswamy-stadium-stampede-what-triggered-the-chaos-that-turned-deadly-in-rcbs-victory-celebration/articleshow/121624517.cms',\n",
       "  'content': \"![Image 3](https://img.etimg.com/thumb/msid-121625936,width-300,height-225,imgsize-121910,resizemode-75/.jpg)\\n\\nRCB's IPL victory celebrations turn tragic: Stampede in Bengaluru; 11 dead, 33 injured\\n\\nThe celebrations after RCB took a heart-breaking turn when a deadly [stampede](https://m.economictimes.com/topic/stampede) near the M Chinnaswamy Stadium killed over 11 fans dead and nearly 33 others injured. [...] Karnataka chief minister Siddaramaiah on Wednesday said the state government was deeply saddened by the stampede that claimed 11 lives and left 33 injured during Royal Challengers Bengaluru’s IPL victory celebrations at Chinnaswamy Stadium.\\n\\n“This tragedy should not have happened. The government expresses deep sorrow. Most of the deceased are youth,” Siddaramaiah said at a press conference in Bengaluru, flanked by deputy CM DK Shivakumar and home minister G Parameshwara. [...] Anticipating massive crowds, the Karnataka government had earlier cancelled an open bus victory parade from Vidhana Soudha to Chinnaswamy Stadium, citing security concerns, a warning that proved prescient.\\n\\nIn Video: [RCB's IPL victory celebrations turn tragic: Stampede in Bengaluru; 11 dead, 33 injured](https://m.economictimes.com/news/india/rcbs-ipl-victory-celebrations-turn-tragic-stampede-in-bengaluru-at-least-7-dead-over-50-injured/videoshow/121625936.cms)\",\n",
       "  'score': 0.83710164},\n",
       " {'title': \"Several Killed as RCB's Victory Celebration Turns Deadly - YouTube\",\n",
       "  'url': 'https://www.youtube.com/watch?v=gz8chxY7elU',\n",
       "  'content': \"At least 11 people were killed and 30 injured in a stampede outside the Chinnaswamy cricket stadium in Bengaluru. The incident happened during the Royal Challengers' victory celebrations after their first IPL triumph in 18 years. Did the state government underestimate the rush? Were crowd control measures not in place? Palki Sharma tells you.\\n\\n--- [...] It was supposed to be a day of pure joy, of celebration and pride. Instead, Bengaluru is in shock today. I'm sure you've seen the news and the pictures. Bengaluru was all decked up for a massive celebration today. Their IPL team had finally won the tournament. The Royal Challengers beat Punjab Kings yesterday. It was their first IPL trophy in 18 years. Now the RCB fans are a very passionate lot. Plus they've been waiting for a win since 2008. So they packed the streets of Bengaluru in [...] soon the fan frenzy turned fatal. The exact details are not clear yet but reports say the rush led to a stampede. At least 11 people were killed, including children, and more than 30 were injured. Like I said, the exact sequence of events is unclear, but these pictures give you an idea. Uh you can see fans climbing up fences and trees. In some places, the police pushed back with force. We will show you the pictures, but as always, viewer discretion is advised. [Applause] [Music] [Applause] Such\",\n",
       "  'score': 0.83290404},\n",
       " {'title': \"How did celebration of RCB's historic win in IPL spiral into chaos ...\",\n",
       "  'url': 'https://www.thehindu.com/news/national/karnataka/how-did-celebration-of-rcbs-historic-win-in-ipl-spiral-into-chaos-and-crisis-explained/article69668074.ece',\n",
       "  'content': 'A stampede during RCB’s victory celebrations in Bengaluru on June 4 claimed 11 lives and left several others with injuries, turning a moment of triumph into tragedy. Facing a backlash for mismanagement and hurried planning, the Congress government in Karnataka suspended top police officials [...] Remove [SEE ALL](https://www.thehindu.com/myaccount/?tab=bookmarks)\\n\\nPRINT\\n\\n![Image 12: Footwear left behind by fans of Royal Challenge Bengaluru (RCB) after a stampede at the victory celebrations, in Bengaluru on June 5, 2025. ](https://www.thehindu.com/theme/images/th-online/1x1_spacer.png)\\n\\nFootwear left behind by fans of Royal Challenge Bengaluru (RCB) after a stampede at the victory celebrations, in Bengaluru on June 5, 2025. | Photo Credit: SUDHAKARA JAIN\\n\\n#### The story so far [...] The situation spiralled out of control when fans, eager to be part of the celebration, rushed to the already packed stadium gates, demanding entry. Overwhelmed by the sheer volume, police personnel struggled to manage the crowd. Chaos broke out as fans jumped barricades, trampled one another, and triggered a deadly stampede, according to police.\\n\\nAs the tragedy unfolded outside, the event inside the stadium was hastily scaled down and brought to an early close.',\n",
       "  'score': 0.818055},\n",
       " {'title': \"What led to the deadly stampede during RCB's victory celebrations ...\",\n",
       "  'url': 'https://www.youtube.com/watch?v=S5eb3p3kwDc',\n",
       "  'content': '### Description\\n65563 views\\nPosted: 4 Jun 2025\\nBangalore Stampede: RCB’s IPL win brought lakhs to the streets of Bengaluru—but celebration turned into chaos. A stampede near Chinnaswamy Stadium left 11 dead and dozens injured. Miscommunication, crowd mismanagement, and political blame followed. Here’s a breakdown of what happened and why it spiraled out of control.\\n\\n#bangalorestampede #chinnaswamystadium #rcbvictoryparade #rcb #rcbstampede',\n",
       "  'score': 0.8127637}]"
      ]
     },
     "execution_count": 26,
     "metadata": {},
     "output_type": "execute_result"
    }
   ],
   "source": [
    "tavily_tool.invoke({\"query\":\"what happend in RCB victory celebration?\"})"
   ]
  },
  {
   "cell_type": "markdown",
   "id": "baf31e16",
   "metadata": {},
   "source": [
    "Custom Tool:"
   ]
  },
  {
   "cell_type": "code",
   "execution_count": 33,
   "id": "248371a7",
   "metadata": {},
   "outputs": [],
   "source": [
    "@tool\n",
    "def get_token_count(sentence:str):\n",
    "    '''\n",
    "    This tool gets the number of tokens present in a text.\n",
    "    '''\n",
    "    tokenizer = tiktoken.get_encoding('gpt2')\n",
    "    l_tok = tokenizer.encode(sentence)\n",
    "    return len(l_tok)  ,   l_tok"
   ]
  },
  {
   "cell_type": "code",
   "execution_count": 34,
   "id": "b896f067",
   "metadata": {},
   "outputs": [
    {
     "name": "stdout",
     "output_type": "stream",
     "text": [
      "get_token_count -->  This tool gets the number of tokens present in a text. -->  {'sentence': {'title': 'Sentence', 'type': 'string'}}\n",
      "3 --> [29907, 15608, 13]\n"
     ]
    }
   ],
   "source": [
    "print(get_token_count.name, '--> ', get_token_count.description, '--> ', get_token_count.args)\n",
    "customTool_res = get_token_count.invoke('Taylor Swift.')\n",
    "print(customTool_res[0], '-->', customTool_res[1])"
   ]
  },
  {
   "cell_type": "markdown",
   "id": "a0c7f76d",
   "metadata": {},
   "source": [
    "Langgraph Introduction:"
   ]
  },
  {
   "cell_type": "code",
   "execution_count": null,
   "id": "53b7f111",
   "metadata": {},
   "outputs": [],
   "source": []
  }
 ],
 "metadata": {
  "kernelspec": {
   "display_name": "agentic_ai_2_base",
   "language": "python",
   "name": "python3"
  },
  "language_info": {
   "codemirror_mode": {
    "name": "ipython",
    "version": 3
   },
   "file_extension": ".py",
   "mimetype": "text/x-python",
   "name": "python",
   "nbconvert_exporter": "python",
   "pygments_lexer": "ipython3",
   "version": "3.11.11"
  }
 },
 "nbformat": 4,
 "nbformat_minor": 5
}
